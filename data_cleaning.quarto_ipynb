{
  "cells": [
    {
      "cell_type": "markdown",
      "metadata": {},
      "source": [
        "---\n",
        "title: Data Cleaning & Exploration\n",
        "subtitle: Comprehensive Data Cleaning & Exploratory Analysis of Job Market Trends\n",
        "author:\n",
        "  - name: Furong Wang\n",
        "    affiliations:\n",
        "      - id: bu\n",
        "        name: Boston University\n",
        "        city: Boston\n",
        "        state: MA\n",
        "  - name: Marco Perez Garcia\n",
        "    affiliations:\n",
        "      - ref: bu\n",
        "bibliography: references.bib\n",
        "csl: csl/econometrica.csl\n",
        "format:\n",
        "  html:\n",
        "    toc: true\n",
        "    number-sections: true\n",
        "    df-print: paged\n",
        "jupyter: python3\n",
        "---\n",
        "\n",
        "\n",
        "# **Data Cleaning & Preprocessing**\n"
      ],
      "id": "101ae633"
    },
    {
      "cell_type": "code",
      "metadata": {},
      "source": [
        "import pandas as pd\n",
        "import numpy as np\n",
        "import matplotlib.pyplot as plt\n",
        "import seaborn as sns\n",
        "import missingno as msno\n",
        "import plotly.express as px"
      ],
      "id": "dfaaeaaa",
      "execution_count": null,
      "outputs": []
    },
    {
      "cell_type": "markdown",
      "metadata": {},
      "source": [
        "## Dropping Unnecessary Columns\n",
        "\n",
        "### To simplify our job market analysis, we need to drop columns that are either unnecessary, duplicated, or outdated. \n",
        "Specifically, we removed:  \n",
        "* **Older NAICS and SOC codes (e.g., `NAICS2`, `SOC_2`).**  \n",
        "The North American Industry Classification System (NAICS) and Standard Occupational Classification (SOC) systems undergo periodic updates. Retaining only `NAICS_2022_6` and `SOC_2021_4` ensures we use the most recent classification standards. Moreover, older codes are redundant and may lead to inconsistencies in trend analysis.  \n",
        "* **Tracking data and URLs (e.g., `ID`, `DUPLICATES`).**  \n",
        "These columns related to data collection timestamps, unique identifiers, or internal system references, which do not contribute to meaningful insights about the job market. Similarly, URLs are not necessary for our analysis as they do not provide any additional value or context but add unnecessary complexity to the dataset.\n",
        "\n",
        "### Why removing multiple versions of NAICS/SOC codes?\n",
        "There are some reasons for this. Firstly, keeping only the latest industry and occupation classifications ensures our analysis reflects the most recent classification standards and avoid confusion and inconsistencies in classification. Additionally, reducing unnecessary columns speeds up data processing and enhances readability. This is particularly important when working with large datasets, as it minimizes the risk of errors and improves the efficiency of our analysis. Finally, it helps to focus on the most relevant information, allowing for clearer insights and conclusions regarding job market trends.\n",
        "\n",
        "### Impact on Analysis:\n",
        "By removing outdated and irrelevant columns, we achieve:  \n",
        "* More accurate job market trends, focusing on meaningful variables.  \n",
        "* Easier interpretation without clutter from redundant or technical fields.  \n",
        "* Faster analysis and visualization, improving overall efficiency.  \n"
      ],
      "id": "3db7232c"
    },
    {
      "cell_type": "code",
      "metadata": {},
      "source": [
        "job_postings = pd.read_csv('lightcast_job_postings.csv')"
      ],
      "id": "a221bb91",
      "execution_count": null,
      "outputs": []
    },
    {
      "cell_type": "code",
      "metadata": {},
      "source": [
        "columns_to_drop = [\n",
        "    \"ID\", \"URL\", \"ACTIVE_URLS\", \"DUPLICATES\", \"LAST_UPDATED_TIMESTAMP\", \"ACTIVE_URLS\", \"TITLE\", \"COMPANY\",\n",
        "    \"MSA\", \"STATE\", \"COUNTY\", \"CITY\", \"COUNTY_OUTGOING\", \"COUNTY_INCOMING\", \"MSA_OUTGOING\", \"MSA_INCOMING\",\n",
        "    \"ONET\", \"ONET_2019\", \"CIP2\", \"CIP4\", \"CIP6\", \"MODELED_DURATION\", \"MODELED_EXPIRED\",\n",
        "    \"CERTIFICATIONS\", \"COMMON_SKILLS\", \"SPECIALIZED_SKILLS\", \"SKILLS\", \"SOFTWARE_SKILLS\",\n",
        "    \"LOT_V6_CAREER_AREA\", \"LOT_V6_OCCUPATION_GROUP\", \"LOT_V6_OCCUPATION\", \"LOT_V6_SPECIALIZED_OCCUPATION\",\n",
        "    \"LOT_OCCUPATION_GROUP\", \"LOT_SPECIALIZED_OCCUPATION\", \"LOT_OCCUPATION\", \"LOT_CAREER_AREA\",\n",
        "    \"NAICS2\", \"NAICS2_NAME\", \"NAICS3\", \"NAICS3_NAME\", \"NAICS4\", \"NAICS4_NAME\", \"NAICS5\", \"NAICS5_NAME\", \"NAICS6\",\n",
        "    \"NAICS_2022_2\", \"NAICS_2022_2_NAME\", \"NAICS_2022_3\", \"NAICS_2022_3_NAME\", \"NAICS_2022_4\", \"NAICS_2022_4_NAME\",\n",
        "    \"NAICS_2022_5\", \"NAICS_2022_5_NAME\", \"NAICS_2022_6\",\n",
        "    \"SOC_2\", \"SOC_2_NAME\", \"SOC_3\", \"SOC_3_NAME\", \"SOC_5\", \"SOC_5_NAME\", \"SOC_4\",\n",
        "    \"SOC_2021_2\", \"SOC_2021_2_NAME\", \"SOC_2021_3\", \"SOC_2021_3_NAME\", \"SOC_2021_5\", \"SOC_2021_5_NAME\", \"SOC_2021_4\"\n",
        "]\n",
        "\n",
        "job_postings.drop(columns = columns_to_drop, inplace = True)"
      ],
      "id": "8e35804a",
      "execution_count": null,
      "outputs": []
    },
    {
      "cell_type": "markdown",
      "metadata": {},
      "source": [
        "## Handling Missing Values\n",
        "### We used different strategies for missing values:\n"
      ],
      "id": "7c9eef2d"
    },
    {
      "cell_type": "code",
      "metadata": {},
      "source": [
        "plt.figure(figsize=(8, 6))\n",
        "msno.heatmap(job_postings)\n",
        "plt.title(\"Missing Values Heatmap\")\n",
        "plt.show()"
      ],
      "id": "c6b736e2",
      "execution_count": null,
      "outputs": []
    },
    {
      "cell_type": "markdown",
      "metadata": {},
      "source": [
        "#### Dealing with the Salary Column\n",
        "The `SALARY` column has a significant number of missing values. To handle this, we replaced the missing values with the median salary for that specific title or industry. This approach is effective because it minimizes the impact of outliers and provides a more accurate representation of the typical salary for each job title.\n"
      ],
      "id": "b9dbdbc6"
    },
    {
      "cell_type": "code",
      "metadata": {},
      "source": [
        "title_median_salary = job_postings.groupby('TITLE_NAME')['SALARY'].median()\n",
        "industry_median_salary = job_postings.groupby('NAICS_2022_6_NAME')['SALARY'].median()"
      ],
      "id": "f415d5dc",
      "execution_count": null,
      "outputs": []
    },
    {
      "cell_type": "code",
      "metadata": {},
      "source": [
        "job_postings['SALARY'] = job_postings.apply(\n",
        "    lambda row: title_median_salary[row['TITLE_NAME']]\n",
        "    if pd.isna(row['SALARY']) and row['TITLE_NAME'] in title_median_salary else row['SALARY'], \n",
        "    axis=1\n",
        ")"
      ],
      "id": "fca29d82",
      "execution_count": null,
      "outputs": []
    },
    {
      "cell_type": "code",
      "metadata": {},
      "source": [
        "job_postings['SALARY'] = job_postings.apply(\n",
        "    lambda row: industry_median_salary[row['NAICS_2022_6_NAME']]\n",
        "    if pd.isna(row['SALARY']) and row['NAICS_2022_6_NAME'] in industry_median_salary else row['SALARY'], \n",
        "    axis=1\n",
        ")"
      ],
      "id": "a950456e",
      "execution_count": null,
      "outputs": []
    },
    {
      "cell_type": "code",
      "metadata": {},
      "source": [
        "job_postings['SALARY'] = job_postings['SALARY'].fillna(job_postings[\"SALARY\"].median())"
      ],
      "id": "aedf2290",
      "execution_count": null,
      "outputs": []
    },
    {
      "cell_type": "markdown",
      "metadata": {},
      "source": [
        "#### Dealing with Columns with >50% missing values\n",
        "Dealing with columns that have more than 50% missing values is crucial for maintaining the integrity of our dataset. Columns with excessive missing data can introduce bias and reduce the reliability of our analysis. Therefore, we removed any columns that exceed this threshold. This ensures that our dataset remains focused on relevant and reliable information, enhancing the quality of our insights.\n"
      ],
      "id": "7f5919d5"
    },
    {
      "cell_type": "code",
      "metadata": {},
      "source": [
        "job_postings.dropna(thresh = len(job_postings) * 0.5, axis = 1, inplace = True)"
      ],
      "id": "fcc64890",
      "execution_count": null,
      "outputs": []
    },
    {
      "cell_type": "markdown",
      "metadata": {},
      "source": [
        "#### Dealing with Categorical fields\n",
        "Categorical fields, such as `TITLE_RAW`, were filled with \"Unknown\" for missing values. This approach allows us to retain the integrity of the dataset without introducing bias from arbitrary values. By labeling missing categorical data as \"Unknown\", we can still analyze trends without losing valuable information.\n"
      ],
      "id": "9c89dccb"
    },
    {
      "cell_type": "code",
      "metadata": {},
      "source": [
        "job_postings['TITLE_RAW'] = job_postings['TITLE_RAW'].fillna(\"Unknown\")\n",
        "job_postings['TITLE_CLEAN'] = job_postings['TITLE_CLEAN'].fillna(\"Unknown\")\n",
        "job_postings['COMPANY_RAW'] = job_postings['COMPANY_RAW'].fillna(\"Unknown\")\n",
        "job_postings['MSA_NAME'] = job_postings['MSA_NAME'].fillna(\"Unknown\")\n",
        "job_postings['MSA_NAME_OUTGOING'] = job_postings['MSA_NAME_OUTGOING'].fillna(\"Unknown\")\n",
        "job_postings['MSA_NAME_INCOMING'] = job_postings['MSA_NAME_INCOMING'].fillna(\"Unknown\")"
      ],
      "id": "4d74ea78",
      "execution_count": null,
      "outputs": []
    },
    {
      "cell_type": "markdown",
      "metadata": {},
      "source": [
        "#### Dealing with Datetime fields\n",
        "For the `EXPIRED` variable, we chose to fill the missing values with the maximum date from this column. We assumed that the missing value here is because the post has not expired yet. By using the maximum date, we can effectively handle missing values without introducing bias or skewing the results.\n"
      ],
      "id": "d7956d39"
    },
    {
      "cell_type": "code",
      "metadata": {},
      "source": [
        "job_postings['POSTED'] = pd.to_datetime(job_postings['POSTED'])\n",
        "job_postings['EXPIRED'] = pd.to_datetime(job_postings['EXPIRED'])"
      ],
      "id": "718cbb60",
      "execution_count": null,
      "outputs": []
    },
    {
      "cell_type": "code",
      "metadata": {},
      "source": [
        "max_expired_date = job_postings['EXPIRED'].max()\n",
        "job_postings['EXPIRED'] = job_postings['EXPIRED'].fillna(max_expired_date)"
      ],
      "id": "250082d8",
      "execution_count": null,
      "outputs": []
    },
    {
      "cell_type": "markdown",
      "metadata": {},
      "source": [
        "#### Dealing with Numerical fields\n",
        "For the `MIN_YEARS_EXPERIENCE` variable, we chose to fill the missing values with the median `MIN_YEARS_EXPERIENCE` for a specific title or industry, similar to how we did with the `SALARY` variable. This can minimize the impact of outliers and provides a more accurate representation of the typical years of experience required for each job title.\n"
      ],
      "id": "1e2e451b"
    },
    {
      "cell_type": "code",
      "metadata": {},
      "source": [
        "title_median_exp = job_postings.groupby('TITLE_NAME')['MIN_YEARS_EXPERIENCE'].median()\n",
        "industry_median_exp = job_postings.groupby('NAICS_2022_6_NAME')['MIN_YEARS_EXPERIENCE'].median()"
      ],
      "id": "d6dd7532",
      "execution_count": null,
      "outputs": []
    },
    {
      "cell_type": "code",
      "metadata": {},
      "source": [
        "job_postings['MIN_YEARS_EXPERIENCE'] = job_postings.apply(\n",
        "    lambda row: title_median_exp[row['TITLE_NAME']]\n",
        "    if pd.isna(row['MIN_YEARS_EXPERIENCE']) and row['TITLE_NAME'] in title_median_exp else row['MIN_YEARS_EXPERIENCE'], \n",
        "    axis=1\n",
        ")"
      ],
      "id": "8c17545a",
      "execution_count": null,
      "outputs": []
    },
    {
      "cell_type": "code",
      "metadata": {},
      "source": [
        "job_postings['MIN_YEARS_EXPERIENCE'] = job_postings.apply(\n",
        "    lambda row: industry_median_exp[row['NAICS_2022_6_NAME']]\n",
        "    if pd.isna(row['MIN_YEARS_EXPERIENCE']) and row['NAICS_2022_6_NAME'] in industry_median_exp else row['MIN_YEARS_EXPERIENCE'], \n",
        "    axis=1\n",
        ")"
      ],
      "id": "f60d6087",
      "execution_count": null,
      "outputs": []
    },
    {
      "cell_type": "code",
      "metadata": {},
      "source": [
        "job_postings['MIN_YEARS_EXPERIENCE'] = job_postings['MIN_YEARS_EXPERIENCE'].fillna(job_postings[\"MIN_YEARS_EXPERIENCE\"].median())"
      ],
      "id": "6a6f1a2c",
      "execution_count": null,
      "outputs": []
    },
    {
      "cell_type": "markdown",
      "metadata": {},
      "source": [
        "`DURATION` variable is also a numerical field, but it has a different approach. We will fill the missing values with the difference between the `POSTED` and `EXPIRED`, which calculates the actual time span based on the available dates.\n"
      ],
      "id": "8cdbdfe3"
    },
    {
      "cell_type": "code",
      "metadata": {},
      "source": [
        "def impute_duration(cols):\n",
        "    posted = cols.iloc[0]\n",
        "    expired = cols.iloc[1]\n",
        "    duration = cols.iloc[2]\n",
        "\n",
        "    if pd.isnull(duration):\n",
        "        return expired - posted\n",
        "    else: \n",
        "        return duration"
      ],
      "id": "caffb1b9",
      "execution_count": null,
      "outputs": []
    },
    {
      "cell_type": "code",
      "metadata": {},
      "source": [
        "job_postings['DURATION'] = job_postings[['POSTED', 'EXPIRED', 'DURATION']].apply(impute_duration, axis = 1)"
      ],
      "id": "6397986c",
      "execution_count": null,
      "outputs": []
    },
    {
      "cell_type": "markdown",
      "metadata": {},
      "source": [
        "## Removing Duplicate Job Postings\n",
        "\n",
        "### To ensure each job is counted only once, we removed duplicates based on job title, company, location, and posting date.\n"
      ],
      "id": "f57c8bee"
    },
    {
      "cell_type": "code",
      "metadata": {},
      "source": [
        "job_postings = job_postings.drop_duplicates(subset=[\"TITLE_NAME\", \"COMPANY_NAME\", \"LOCATION\", \"POSTED\"], keep = \"first\")"
      ],
      "id": "33a0ce30",
      "execution_count": null,
      "outputs": []
    },
    {
      "cell_type": "code",
      "metadata": {},
      "source": [
        "job_postings.to_csv('job_postings_cleaned.csv', index=False)"
      ],
      "id": "cc883345",
      "execution_count": null,
      "outputs": []
    },
    {
      "cell_type": "markdown",
      "metadata": {},
      "source": [
        "# **Exploratory Data Analysis (EDA)**\n",
        "\n",
        "## Top 20 companies by job postings\n"
      ],
      "id": "2bb7f6ef"
    },
    {
      "cell_type": "code",
      "metadata": {
        "scrolled": false
      },
      "source": [
        "filtered_companies = job_postings[job_postings[\"COMPANY_NAME\"] != \"Unclassified\"]\n",
        "\n",
        "top_companies = filtered_companies[\"COMPANY_NAME\"].value_counts().head(20)\n",
        "\n",
        "fig = px.bar(\n",
        "    x=top_companies.values,\n",
        "    y=top_companies.index,\n",
        "    orientation='h',\n",
        "    title=\"Top 20 Companies by Job Postings (Excluding Unclassified)\",\n",
        "    labels={'x': 'Number of Job Postings', 'y': 'Company Name'},\n",
        "    text=top_companies.values\n",
        ")\n",
        "\n",
        "fig.update_layout(\n",
        "    xaxis_title=\"Number of Job Postings\",\n",
        "    yaxis_title=\"Company\",\n",
        "    yaxis={'categoryorder': 'total ascending'}, \n",
        "    height=600, \n",
        "    width=900\n",
        ")\n",
        "\n",
        "fig.show()"
      ],
      "id": "10777706",
      "execution_count": null,
      "outputs": []
    },
    {
      "cell_type": "markdown",
      "metadata": {},
      "source": [
        "The visualization of the top 20 companies by job postings (excluding \"Unclassified\") highlights key trends in the job market, particularly in the increasing demand for AI-related roles. Many of the companies with the most postings—Deloitte, Accenture, PricewaterhouseCoopers (PwC), Oracle, Infosys, Meta, and CDW—are major players in technology, consulting, and digital transformation, sectors that have been heavily investing in AI, machine learning, and data-driven innovation.\n",
        "\n",
        "The dominance of these companies in job postings suggests that careers in AI and technology-related fields are in high demand. Consulting giants like Deloitte, Accenture, PwC, and KPMG are actively expanding their AI divisions, helping businesses integrate AI into their operations. For instance, Deloitte has launched several AI tools, including chatbots like \"DARTbot\" for audit professionals and \"NavigAite\" for document review, to enhance efficiency and client services (Stokes, 2025). Additionally, companies like Meta are pioneers in AI research, focusing on areas such as generative AI, automation, and data science. Even in non-tech sectors, financial and healthcare firms such as Citigroup, Cardinal Health, and Blue Cross Blue Shield are leveraging AI for fraud detection, risk assessment, and personalized healthcare.\n",
        "\n",
        "These trends indicate that pursuing a career in AI-related fields, such as data science, machine learning engineering, and AI research, could provide greater job opportunities and higher earning potential. The strong presence of technology and consulting firms in job postings reflects how AI is becoming a fundamental part of business strategies across industries. While traditional, non-AI careers will continue to exist, the rapid push toward automation and intelligent systems suggests that AI-related skills will be increasingly valuable in both technical and non-technical roles. As industries continue adopting AI, professionals who develop expertise in this area may have a competitive advantage in the evolving job market.\n",
        "\n",
        "## Salary Distribution by Industry\n"
      ],
      "id": "f9c1cff6"
    },
    {
      "cell_type": "code",
      "metadata": {},
      "source": [
        "fig = px.box(job_postings, x=\"NAICS_2022_6_NAME\", y=\"SALARY\", title=\"Salary Distribution by Industry\")\n",
        "fig.update_layout(width=1200, height=1000)\n",
        "fig.show()"
      ],
      "id": "f817f729",
      "execution_count": null,
      "outputs": []
    },
    {
      "cell_type": "markdown",
      "metadata": {},
      "source": [
        "The box plot provides a clearer view of salary distributions across industries, highlighting variations in median salaries and outliers. Most industries exhibit salary concentrations below \\$200K, with some sectors showing significantly higher outliers above \\$300K-\\$500K, suggesting high-paying roles in specialized fields.\n",
        "\n",
        "AI-related jobs, typically found in industries such as technology, finance, and advanced manufacturing, often contribute to these high-salary outliers. Roles in machine learning, data science, and artificial intelligence engineering command premium salaries due to their specialized skill requirements, talent scarcity, and high demand across multiple industries. The broader salary spread in AI-intensive fields may also reflect differences in job seniority, from entry-level analysts to highly compensated AI researchers and executives.\n",
        "\n",
        "Additionally, AI-driven industries tend to offer competitive compensation to attract top talent, given the rapid pace of technological advancement and the strategic importance of AI in business growth. The dense clustering of lower salaries in non-AI industries indicates a more constrained range, potentially due to standardized pay structures or lower technical barriers to entry. \n",
        "\n",
        "## Top 5 Occupations by Average Salary\n"
      ],
      "id": "d963c6d0"
    },
    {
      "cell_type": "code",
      "metadata": {},
      "source": [
        "avg_salary_per_occupation = job_postings.groupby(\"LOT_V6_OCCUPATION_NAME\")[\"SALARY\"].mean().reset_index()\n",
        "\n",
        "top_occupations = avg_salary_per_occupation.sort_values(by=\"SALARY\", ascending=False).head(5)\n",
        "\n",
        "fig = px.bar(\n",
        "        top_occupations,\n",
        "        x=\"SALARY\",\n",
        "        y=\"LOT_V6_OCCUPATION_NAME\",\n",
        "        orientation='h',\n",
        "        title=\"Top 5 Occupations by Average Salary\",\n",
        "        labels={\"SALARY\": \"Average Salary ($)\", \"LOT_V6_OCCUPATION_NAME\": \"Occupation\"},\n",
        "        text=top_occupations[\"SALARY\"]\n",
        "    )\n",
        "\n",
        "fig.update_layout(\n",
        "        xaxis_title=\"Average Salary ($)\",\n",
        "        yaxis_title=\"Occupation\",\n",
        "        yaxis={\"categoryorder\": \"total ascending\"}, \n",
        "        height=700,\n",
        "        width=900\n",
        "    )\n",
        "\n",
        "fig.show()"
      ],
      "id": "b3a042d0",
      "execution_count": null,
      "outputs": []
    },
    {
      "cell_type": "markdown",
      "metadata": {},
      "source": [
        "The salary distribution in the graph clearly shows that the highest-paying occupations are directly tied to artificial intelligence, data analytics, and business intelligence. The top-paying role, \"Computer Systems Engineer / Architect,\" averages over \\$156,000, followed by \"Business Intelligence Analyst\" at \\$125,000 and other AI-driven roles like \"Data Mining Analyst\" and \"Market Research Analyst,\" all exceeding \\$100,000. These occupations rely heavily on AI, machine learning, and data-driven decision-making, making it clear that mastering AI-related skills is directly linked to higher salaries. The strong earnings for these roles indicate that industries are willing to pay a premium for professionals who can build, interpret, and optimize AI-driven systems.\n",
        "\n",
        "In contrast, traditional non-AI careers, which are not as data or automation-focused, tend to fall outside these top salary brackets. The job market is shifting towards AI dependency, where knowing how to work with artificial intelligence, big data, and automation tools is no longer just an advantage but a necessity for higher-paying opportunities. As industries integrate AI at an increasing pace, professionals who fail to develop AI-related expertise risk stagnating in lower-paying roles, while those who embrace AI technologies position themselves for significantly better financial rewards.\n"
      ],
      "id": "a5badbf6"
    }
  ],
  "metadata": {
    "kernelspec": {
      "display_name": "Python 3",
      "language": "python",
      "name": "python3"
    }
  },
  "nbformat": 4,
  "nbformat_minor": 5
}