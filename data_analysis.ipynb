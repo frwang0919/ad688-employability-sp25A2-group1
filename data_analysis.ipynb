{
 "cells": [
  {
   "cell_type": "markdown",
   "metadata": {},
   "source": [
    "---\n",
    "title: \"Data Analysis\"\n",
    "subtitle: \"Comprehensive Data Cleaning & Exploratory Analysis of Job Market Trends\"\n",
    "author:\n",
    "  - name: Furong Wang\n",
    "    affiliations:\n",
    "      - id: bu\n",
    "        name: Boston University\n",
    "        city: Boston\n",
    "        state: MA\n",
    "  - name: Marco Perez Garcia\n",
    "    affiliations:\n",
    "      - ref: bu\n",
    "bibliography: references.bib\n",
    "csl: csl/econometrica.csl\n",
    "format: \n",
    "  html:\n",
    "    toc: true\n",
    "    number-sections: true\n",
    "    df-print: paged\n",
    "---"
   ]
  },
  {
   "cell_type": "code",
   "execution_count": null,
   "metadata": {},
   "outputs": [],
   "source": []
  },
  {
   "cell_type": "markdown",
   "metadata": {},
   "source": []
  }
 ],
 "metadata": {
  "language_info": {
   "name": "python"
  }
 },
 "nbformat": 4,
 "nbformat_minor": 2
}
