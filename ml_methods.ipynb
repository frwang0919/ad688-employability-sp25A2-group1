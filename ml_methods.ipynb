{
 "cells": [
  {
   "cell_type": "markdown",
   "id": "fe97ece2",
   "metadata": {},
   "source": [
    "---\n",
    "title: \"Machine Learning Methods\"\n",
    "subtitle: \"Clustering and Machine Learning Techniques for Job Market Trends Analysis\"\n",
    "author:\n",
    "  - name: Furong Wang\n",
    "    affiliations:\n",
    "      - id: bu\n",
    "        name: Boston University\n",
    "        city: Boston\n",
    "        state: MA\n",
    "  - name: Marco Perez Garcia\n",
    "    affiliations:\n",
    "      - ref: bu\n",
    "bibliography: references.bib\n",
    "csl: csl/econometrica.csl\n",
    "format: \n",
    "  html:\n",
    "    toc: true\n",
    "    number-sections: true\n",
    "    df-print: paged\n",
    "---"
   ]
  },
  {
   "cell_type": "code",
   "execution_count": null,
   "id": "4742ec19",
   "metadata": {},
   "outputs": [],
   "source": [
    "import pandas as pd\n",
    "import numpy as np\n",
    "import matplotlib.pyplot as plt\n",
    "import seaborn as sns\n",
    "import plotly.express as px\n",
    "from pyspark.sql import SparkSession\n",
    "import plotly.io as pio\n",
    "from pyspark.sql.functions import col, pow\n",
    "from pyspark.ml.feature import StringIndexer, OneHotEncoder, VectorAssembler\n",
    "from pyspark.ml import Pipeline\n",
    "from pyspark.ml.regression import LinearRegression\n",
    "from tabulate import tabulate\n",
    "from pyspark.ml.regression import GeneralizedLinearRegression\n",
    "from IPython.display import HTML\n",
    "from pyspark.sql.functions import col, pow, sqrt, abs, mean, avg\n",
    "from pyspark.ml.regression import RandomForestRegressor\n",
    "from pyspark.ml.evaluation import RegressionEvaluator\n",
    "import sys\n",
    "from pyspark.ml.clustering import KMeans\n"
   ]
  },
  {
   "cell_type": "markdown",
   "id": "29544239",
   "metadata": {},
   "source": [
    "# **Unsupervised Learning: KMeans Clustering**"
   ]
  },
  {
   "cell_type": "code",
   "execution_count": null,
   "id": "3dabc2d0",
   "metadata": {},
   "outputs": [],
   "source": [
    "spark = SparkSession.builder.appName(\"LightcastData\").getOrCreate()\n",
    "\n",
    "# Load Data\n",
    "df = spark.read.option(\"header\", \"true\").option(\"inferSchema\", \"true\").option(\"multiLine\",\"true\").option(\"escape\", \"\\\"\").csv(\"lightcast_job_postings.csv\")\n"
   ]
  },
  {
   "cell_type": "markdown",
   "id": "164ff8fe",
   "metadata": {},
   "source": [
    "# **Supervised Learning:**"
   ]
  }
 ],
 "metadata": {
  "kernelspec": {
   "display_name": ".venv",
   "language": "python",
   "name": "python3"
  },
  "language_info": {
   "name": "python",
   "version": "3.12.3"
  }
 },
 "nbformat": 4,
 "nbformat_minor": 5
}
